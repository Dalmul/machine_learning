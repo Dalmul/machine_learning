{
 "cells": [
  {
   "cell_type": "code",
   "execution_count": 1,
   "metadata": {},
   "outputs": [],
   "source": [
    "import pandas as pd\n",
    "\n",
    "column_names = ['CRIM', 'ZN', 'INDUS', 'CHAS', 'NOX', 'RM', 'AGE', 'DIS', \n",
    "                'RAD', 'TAX', 'PTRATIO', 'B', 'LSTAT', 'MEDV']\n",
    "\n",
    "df = pd.read_csv('../datasets/housing.csv', header=None, \n",
    "                 delimiter=r\"\\s+\", names=column_names)"
   ]
  },
  {
   "cell_type": "code",
   "execution_count": 4,
   "metadata": {},
   "outputs": [],
   "source": [
    "from sklearn.model_selection import cross_val_score\n",
    "from sklearn.ensemble import RandomForestRegressor\n",
    "import numpy as np"
   ]
  },
  {
   "cell_type": "code",
   "execution_count": 5,
   "metadata": {},
   "outputs": [
    {
     "name": "stdout",
     "output_type": "stream",
     "text": [
      "5-교차 검증의 개별 Negative MSE scores :  [ -7.88 -13.14 -20.57 -46.23 -18.88]\n",
      "5-교차 검증의 개별 RMSE scores :  [2.81 3.63 4.54 6.8  4.34]\n",
      "5-교차 검증의 평균 RMSE scores :  4.423\n"
     ]
    }
   ],
   "source": [
    "y_target = df['MEDV']\n",
    "X_data = df.drop(['MEDV'], axis=1)\n",
    "\n",
    "rft = RandomForestRegressor(random_state=0, n_estimators=1000)\n",
    "neg_mse_scores = cross_val_score(rft, X_data, y_target, scoring='neg_mean_squared_error', cv=5)\n",
    "rmse_scores = np.sqrt(-1 * neg_mse_scores)\n",
    "avg_rmse = np.mean(rmse_scores)\n",
    "\n",
    "print('5-교차 검증의 개별 Negative MSE scores : ', np.round(neg_mse_scores, 2))\n",
    "print('5-교차 검증의 개별 RMSE scores : ', np.round(rmse_scores, 2))\n",
    "print('5-교차 검증의 평균 RMSE scores : {0: .3f}'.format(avg_rmse))\n"
   ]
  },
  {
   "cell_type": "code",
   "execution_count": 11,
   "metadata": {},
   "outputs": [
    {
     "name": "stdout",
     "output_type": "stream",
     "text": [
      "예측한 5-folds의 평균 RMSE :  5.978\n",
      "예측한 5-folds의 평균 RMSE :  4.423\n",
      "예측한 5-folds의 평균 RMSE :  4.269\n"
     ]
    }
   ],
   "source": [
    "from sklearn.tree import DecisionTreeRegressor\n",
    "from sklearn.ensemble import GradientBoostingRegressor\n",
    "\n",
    "dt_reg = DecisionTreeRegressor(random_state=0, max_depth=4)\n",
    "rf_reg = RandomForestRegressor(random_state=0, n_estimators=1000)\n",
    "gb_reg = GradientBoostingRegressor(random_state=0, n_estimators=1000)\n",
    "\n",
    "models = [dt_reg, rf_reg, gb_reg]\n",
    "\n",
    "for model in models:\n",
    "    # if model_nam == 'dt_reg':\n",
    "    #     model = dt_reg\n",
    "    # elif model_nam == 'rf_reg':\n",
    "    #     model = rf_reg\n",
    "    # elif model_nam == 'gb_reg':\n",
    "    #     model = gb_reg\n",
    "    neg_mse_scores = cross_val_score(\n",
    "        model, X_data, y_target, scoring=\"neg_mean_squared_error\", cv=5)\n",
    "    avg_rmse = np.mean(np.sqrt(-1 * neg_mse_scores))\n",
    "    # print(f'{model_nam} 의 예측한 5-folds의 평균 RMSE : {avg_rmse: .3f}')\n",
    "    print( '예측한 5-folds의 평균 RMSE : {0: .3f}'.format(avg_rmse))\n",
    "\n",
    "\n"
   ]
  },
  {
   "cell_type": "code",
   "execution_count": 12,
   "metadata": {},
   "outputs": [
    {
     "name": "stdout",
     "output_type": "stream",
     "text": [
      "dt_reg 의 예측한 5-folds의 평균 RMSE :  5.978\n",
      "rf_reg 의 예측한 5-folds의 평균 RMSE :  4.423\n",
      "gb_reg 의 예측한 5-folds의 평균 RMSE :  4.269\n"
     ]
    }
   ],
   "source": [
    "from sklearn.tree import DecisionTreeRegressor\n",
    "from sklearn.ensemble import GradientBoostingRegressor\n",
    "\n",
    "dt_reg = DecisionTreeRegressor(random_state=0, max_depth=4)\n",
    "rf_reg = RandomForestRegressor(random_state=0, n_estimators=1000)\n",
    "gb_reg = GradientBoostingRegressor(random_state=0, n_estimators=1000)\n",
    "\n",
    "models = ['dt_reg', 'rf_reg', 'gb_reg']\n",
    "\n",
    "for model_nam in models:\n",
    "    if model_nam == 'dt_reg':\n",
    "        model = dt_reg\n",
    "    elif model_nam == 'rf_reg':\n",
    "        model = rf_reg\n",
    "    elif model_nam == 'gb_reg':\n",
    "        model = gb_reg\n",
    "    neg_mse_scores = cross_val_score(\n",
    "        model, X_data, y_target, scoring=\"neg_mean_squared_error\", cv=5)\n",
    "    avg_rmse = np.mean(np.sqrt(-1 * neg_mse_scores))\n",
    "    print(f'{model_nam} 의 예측한 5-folds의 평균 RMSE : {avg_rmse: .3f}')\n",
    "\n",
    "\n"
   ]
  },
  {
   "cell_type": "code",
   "execution_count": 13,
   "metadata": {},
   "outputs": [
    {
     "data": {
      "image/png": "[encoded data removed]",
      "text/plain": [
       "<Figure size 1200x800 with 1 Axes>"
      ]
     },
     "metadata": {},
     "output_type": "display_data"
    }
   ],
   "source": [
    "import seaborn as sns\n",
    "import matplotlib.pyplot as plt\n",
    "\n",
    "# Random Forest 회귀 모델 생성 및 학습\n",
    "rf_reg = RandomForestRegressor(n_estimators=1000)\n",
    "rf_reg.fit(X_data, y_target)\n",
    "\n",
    "# 각 피처의 중요도를 Series로 변환\n",
    "feature_series = pd.Series(data=rf_reg.feature_importances_, index=X_data.columns)\n",
    "\n",
    "# 중요도에 따라 내림차순으로 정렬\n",
    "feature_series = feature_series.sort_values(ascending=False)\n",
    "\n",
    "# 중요도 시각화 (막대 그래프)\n",
    "plt.figure(figsize=(12, 8))\n",
    "sns.barplot(x=feature_series, y=feature_series.index)\n",
    "plt.show()"
   ]
  },
  {
   "cell_type": "code",
   "execution_count": null,
   "metadata": {},
   "outputs": [],
   "source": []
  }
 ],
 "metadata": {
  "kernelspec": {
   "display_name": "base",
   "language": "python",
   "name": "python3"
  },
  "language_info": {
   "codemirror_mode": {
    "name": "ipython",
    "version": 3
   },
   "file_extension": ".py",
   "mimetype": "text/x-python",
   "name": "python",
   "nbconvert_exporter": "python",
   "pygments_lexer": "ipython3",
   "version": "3.11.3"
  },
  "orig_nbformat": 4
 },
 "nbformat": 4,
 "nbformat_minor": 2
}
